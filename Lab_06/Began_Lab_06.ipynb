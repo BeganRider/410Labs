{
 "cells": [
  {
   "metadata": {
    "ExecuteTime": {
     "end_time": "2025-02-18T20:51:32.099979Z",
     "start_time": "2025-02-18T20:51:32.081556Z"
    }
   },
   "cell_type": "code",
   "source": [
    "import numpy as np\n",
    "import matplotlib.pyplot as plt\n",
    "import seaborn as sns\n",
    "import pandas as pd\n",
    "import sklearn\n",
    "\n",
    "from Lab_05.Began_Lab_05 import X_test"
   ],
   "id": "b279d4ab354feaec",
   "outputs": [],
   "execution_count": 41
  },
  {
   "metadata": {
    "ExecuteTime": {
     "end_time": "2025-02-18T21:00:18.191296Z",
     "start_time": "2025-02-18T21:00:18.178570Z"
    }
   },
   "cell_type": "code",
   "source": [
    "titanic_df=pd.read_csv(\"Titanic.csv\")\n",
    "titanic_df.drop(columns=['PassengerId'], inplace=True)\n",
    "titanic_df.drop(columns=['Name'], inplace=True)\n",
    "titanic_df.drop(columns=['SibSp'], inplace=True)\n",
    "titanic_df.drop(columns=['Parch'], inplace=True)\n",
    "titanic_df.drop(columns=['Ticket'], inplace=True)\n",
    "titanic_df.drop(columns=['Cabin'], inplace=True)\n",
    "print(titanic_df.head())"
   ],
   "id": "640438492aa8410e",
   "outputs": [
    {
     "name": "stdout",
     "output_type": "stream",
     "text": [
      "   Survived  Pclass     Sex   Age     Fare Embarked\n",
      "0         0       3    male  22.0   7.2500        S\n",
      "1         1       1  female  38.0  71.2833        C\n",
      "2         1       3  female  26.0   7.9250        S\n",
      "3         1       1  female  35.0  53.1000        S\n",
      "4         0       3    male  35.0   8.0500        S\n"
     ]
    }
   ],
   "execution_count": 49
  },
  {
   "metadata": {
    "ExecuteTime": {
     "end_time": "2025-02-18T21:00:19.446321Z",
     "start_time": "2025-02-18T21:00:19.427636Z"
    }
   },
   "cell_type": "code",
   "source": [
    "print(titanic_df.isnull().sum())\n",
    "#titanic_df.fillna({'Sex': 'N/A', 'Embarked': 'N/A'}, inplace=True)\n",
    "\n",
    "titanic_df.fillna(titanic_df.mean(numeric_only=True), inplace=True)\n",
    "\n",
    "print(titanic_df.head())"
   ],
   "id": "538e8ba9a7124ce9",
   "outputs": [
    {
     "name": "stdout",
     "output_type": "stream",
     "text": [
      "Survived      0\n",
      "Pclass        0\n",
      "Sex           0\n",
      "Age         263\n",
      "Fare          1\n",
      "Embarked      2\n",
      "dtype: int64\n",
      "   Survived  Pclass     Sex   Age     Fare Embarked\n",
      "0         0       3    male  22.0   7.2500        S\n",
      "1         1       1  female  38.0  71.2833        C\n",
      "2         1       3  female  26.0   7.9250        S\n",
      "3         1       1  female  35.0  53.1000        S\n",
      "4         0       3    male  35.0   8.0500        S\n"
     ]
    }
   ],
   "execution_count": 50
  },
  {
   "metadata": {
    "ExecuteTime": {
     "end_time": "2025-02-18T21:05:13.503581Z",
     "start_time": "2025-02-18T21:05:13.484835Z"
    }
   },
   "cell_type": "code",
   "source": [
    "from sklearn.preprocessing import LabelEncoder  \n",
    "\n",
    "encode = LabelEncoder()\n",
    "titanic_df['Sex']=encode.fit_transform(titanic_df['Sex'])\n",
    "titanic_df['Embarked']=encode.fit_transform(titanic_df['Embarked'])\n",
    "print(titanic_df.head())"
   ],
   "id": "5c35c8fb78cfedf5",
   "outputs": [
    {
     "name": "stdout",
     "output_type": "stream",
     "text": [
      "   Survived  Pclass  Sex   Age     Fare  Embarked\n",
      "0         0       3    1  22.0   7.2500         2\n",
      "1         1       1    0  38.0  71.2833         0\n",
      "2         1       3    0  26.0   7.9250         2\n",
      "3         1       1    0  35.0  53.1000         2\n",
      "4         0       3    1  35.0   8.0500         2\n"
     ]
    }
   ],
   "execution_count": 57
  },
  {
   "metadata": {
    "ExecuteTime": {
     "end_time": "2025-02-18T21:25:35.150413Z",
     "start_time": "2025-02-18T21:25:35.132830Z"
    }
   },
   "cell_type": "code",
   "source": [
    "from sklearn.decomposition import PCA\n",
    "from sklearn.preprocessing import StandardScaler\n",
    "from sklearn.model_selection import train_test_split\n",
    "\n",
    "#split into train and test\n",
    "X = titanic_df.drop('Survived', axis=1)\n",
    "Y = titanic_df.Survived\n",
    "X_train, X_test, Y_train, Y_test = train_test_split(X,Y,test_size=0.2)\n",
    "\n",
    "sc = StandardScaler()\n",
    "\n",
    "X_train = sc.fit_transform(X_train)\n",
    "X_test = sc.transform(X_test)\n",
    "\n",
    "pca= PCA()\n",
    "\n",
    "X_train = pca.fit_transform(X_train)\n",
    "X_test = pca.transform(X_test)\n",
    "variance = pca.explained_variance_ratio_\n",
    "\n",
    "print(variance)\n"
   ],
   "id": "4c14acbd4ba696b6",
   "outputs": [
    {
     "name": "stdout",
     "output_type": "stream",
     "text": [
      "[0.3766963  0.21835525 0.17760611 0.14647771 0.08086462]\n"
     ]
    }
   ],
   "execution_count": 71
  },
  {
   "metadata": {
    "ExecuteTime": {
     "end_time": "2025-02-18T21:25:58.109449Z",
     "start_time": "2025-02-18T21:25:58.092605Z"
    }
   },
   "cell_type": "code",
   "source": [
    "from sklearn.model_selection import train_test_split\n",
    "\n",
    "x=titanic_df.drop(columns=['Survived'])\n",
    "y=titanic_df['Survived']\n",
    "x_train, x_test, y_train, y_test = train_test_split(x, y, test_size=0.2, random_state=38)\n",
    "print(\"training set: \", {x_train.shape[0]})\n",
    "print(\"test set: \", {x_test.shape[0]})\n",
    "\n"
   ],
   "id": "cebeb6224ca12ee8",
   "outputs": [
    {
     "name": "stdout",
     "output_type": "stream",
     "text": [
      "training set:  {1047}\n",
      "test set:  {262}\n"
     ]
    }
   ],
   "execution_count": 72
  }
 ],
 "metadata": {
  "kernelspec": {
   "display_name": "Python 3",
   "language": "python",
   "name": "python3"
  },
  "language_info": {
   "codemirror_mode": {
    "name": "ipython",
    "version": 2
   },
   "file_extension": ".py",
   "mimetype": "text/x-python",
   "name": "python",
   "nbconvert_exporter": "python",
   "pygments_lexer": "ipython2",
   "version": "2.7.6"
  }
 },
 "nbformat": 4,
 "nbformat_minor": 5
}
